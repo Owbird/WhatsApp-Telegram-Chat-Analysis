{
 "cells": [
  {
   "cell_type": "markdown",
   "id": "d9174c26",
   "metadata": {},
   "source": [
    "\n",
    "# WhatsApp and Telegram Chat Analysis.\n",
    "\n",
    "It visualizes the most used words, hours texted, general sentiments by the other party.\n",
    "\n",
    "# Files needed:\n",
    "\n",
    "1. Exported Telegram Chat JSON file. \n",
    "\t[How to export Telegram chat](https://www.maketecheasier.com/export-telegram-chat-history/)\n",
    "\n",
    "2. Exported WhatsApp Chat text file.\n",
    "\t[How to export WhatsApp chat](https://www.marca.com/en/lifestyle/how-to/2021/11/10/618bbe63ca4741b2138b4608.html)\n"
   ]
  },
  {
   "cell_type": "code",
   "execution_count": null,
   "id": "8a2d7cf6",
   "metadata": {},
   "outputs": [],
   "source": [
    "import pandas as pd\n",
    "import nltk\n",
    "from nltk.corpus import stopwords\n",
    "from happytransformer import HappyTextClassification\n",
    "import re\n",
    "from json import load\n",
    "import matplotlib.pyplot as plt"
   ]
  },
  {
   "cell_type": "code",
   "execution_count": null,
   "id": "1d42d2f8",
   "metadata": {},
   "outputs": [],
   "source": [
    "# Regex to ignore weird chars\n",
    "\n",
    "emoji_pattern = re.compile(\"[\"\n",
    "        u\"\\U0001F600-\\U0001F64F\"  # emoticons\n",
    "        u\"\\U0001F300-\\U0001F5FF\"  # symbols & pictographs\n",
    "        u\"\\U0001F680-\\U0001F6FF\"  # transport & map symbols\n",
    "        u\"\\U0001F1E0-\\U0001F1FF\"  # flags (iOS)\n",
    "        u\"\\U00002500-\\U00002BEF\"  # chinese char\n",
    "        u\"\\U00002702-\\U000027B0\"\n",
    "        u\"\\U00002702-\\U000027B0\"\n",
    "        u\"\\U000024C2-\\U0001F251\"\n",
    "        u\"\\U0001f926-\\U0001f937\"\n",
    "        u\"\\U00010000-\\U0010ffff\"\n",
    "        u\"\\u2640-\\u2642\" \n",
    "        u\"\\u2600-\\u2B55\"\n",
    "        u\"\\u200d\"\n",
    "        u\"\\u23cf\"\n",
    "        u\"\\u23e9\"\n",
    "        u\"\\u231a\"\n",
    "        u\"\\ufe0f\"  # dingbats\n",
    "        u\"\\u3030\"\n",
    "       \"]+\", re.UNICODE)"
   ]
  },
  {
   "cell_type": "code",
   "execution_count": null,
   "id": "b30971bf",
   "metadata": {},
   "outputs": [],
   "source": [
    "# How the contacts are saved on each platform\n",
    "contact_on_wa = \"\"\n",
    "contact_on_telegram = \"\"\n",
    "\n",
    "# Chat files path\n",
    "exported_wa_file = \"\"\n",
    "exported_tg_file = \"\""
   ]
  },
  {
   "cell_type": "code",
   "execution_count": null,
   "id": "235ababe",
   "metadata": {},
   "outputs": [],
   "source": [
    "# Individual texts for sentiment analysis\n",
    "texts_wa = []\n",
    "texts_tg = []\n",
    "\n",
    "# Split words for words analysis \n",
    "corpus_wa = []\n",
    "corpus_tg = []\n",
    "\n",
    "hours_wa = []\n",
    "hours_tg = []\n",
    "\n"
   ]
  },
  {
   "cell_type": "markdown",
   "id": "3658349f",
   "metadata": {},
   "source": [
    "# Text Processing"
   ]
  },
  {
   "cell_type": "code",
   "execution_count": null,
   "id": "41b83060",
   "metadata": {},
   "outputs": [],
   "source": [
    "def handleContent(text, pltfm):\n",
    "    text = emoji_pattern.sub(r'', text)\n",
    "\n",
    "    if pltfm == \"wa\":\n",
    "                \n",
    "        texts_wa.append(text.lower())\n",
    "\n",
    "    else:\n",
    "\n",
    "        texts_tg.append(text.lower())\n",
    "\n",
    "    for cor in text.lower().split(\" \"):\n",
    "        # Ignore common words such as a, and, an, are etc.\n",
    "        if cor != '' and cor !=\"\\n\" and not cor in stopwords.words(\"english\") and cor.isalpha():\n",
    "            if pltfm == \"wa\":\n",
    "\n",
    "                corpus_wa.append(cor)\n",
    "\n",
    "            else:\n",
    "\n",
    "                corpus_tg.append(cor)\n",
    "                    "
   ]
  },
  {
   "cell_type": "code",
   "execution_count": null,
   "id": "33b4a3fb",
   "metadata": {},
   "outputs": [],
   "source": [
    "# Parse WhatsApp Content\n",
    "\n",
    "with open(exported_wa_file) as chat_txt:\n",
    "    for ctx in chat_txt.readlines():\n",
    "        \n",
    "        if contact_on_wa in ctx:\n",
    "\n",
    "            text = ctx.split(f\"{contact_on_wa}:\")[1]\n",
    "\n",
    "            hour = ctx.split(f\"{contact_on_wa}:\")[0].split(\"-\")[0].split(\",\")[1].strip().split(\":\")[0]\n",
    "\n",
    "            hours_wa.append(hour)\n",
    "            \n",
    "            if not \"<Media omitted>\" in text:\n",
    "\n",
    "                handleContent(text, \"wa\")\n",
    "                "
   ]
  },
  {
   "cell_type": "code",
   "execution_count": null,
   "id": "7beeb092",
   "metadata": {},
   "outputs": [],
   "source": [
    "# Parse Telegram Content\n",
    "\n",
    "with open(exported_tg_file) as chat_json:\n",
    "    chat = load(chat_json)\n",
    "\n",
    "for message in chat['messages']:\n",
    "    if message.get(\"from\") == contact_on_telegram:\n",
    "\n",
    "        text = message['text']\n",
    "\n",
    "        if type(text).__name__ == \"str\":\n",
    "\n",
    "\n",
    "            hours_tg.append(message['date'].split(\"T\")[1].split(\":\")[0])\n",
    "\n",
    "            handleContent(text, \"tg\")\n"
   ]
  },
  {
   "cell_type": "markdown",
   "id": "e64ffefe",
   "metadata": {},
   "source": [
    "# Data Visualization"
   ]
  },
  {
   "cell_type": "code",
   "execution_count": null,
   "id": "e8bd3c0e",
   "metadata": {},
   "outputs": [],
   "source": [
    "corpus_df_wa = pd.DataFrame(corpus_wa, columns=[\"word\"])\n",
    "corpus_df_tg = pd.DataFrame(corpus_tg, columns=[\"word\"])\n",
    "\n",
    "fig, axes = plt.subplots(nrows=1, ncols=2)\n",
    "fig.tight_layout(pad=2.0)\n",
    "\n",
    "\n",
    "corpus_df_wa.value_counts()[:10].plot(kind=\"barh\", label=\"WhatsApp\",ax=axes[0], color=\"green\")\n",
    "corpus_df_tg.value_counts()[:10].plot(kind=\"barh\", label=\"Telegram\",ax=axes[1])\n",
    "\n",
    "fig.legend()\n"
   ]
  },
  {
   "cell_type": "code",
   "execution_count": null,
   "id": "d202af03",
   "metadata": {},
   "outputs": [],
   "source": [
    "corpus_df_all = pd.concat([corpus_df_wa, corpus_df_tg])\n",
    "corpus_df_all.value_counts()[:10].plot(kind=\"barh\", title=\"Total Words\", color=\"red\")"
   ]
  },
  {
   "cell_type": "code",
   "execution_count": null,
   "id": "a72342d4",
   "metadata": {},
   "outputs": [],
   "source": [
    "fig, axes = plt.subplots(nrows=1, ncols=2)\n",
    "fig.tight_layout(pad=2.0)\n",
    "\n",
    "hours_df_wa = pd.DataFrame(hours_wa, columns=[\"hour\"])\n",
    "hours_df_wa.value_counts().plot(kind=\"barh\", color=\"green\", label=\"WhatsApp\", ax=axes[0])\n",
    "\n",
    "hours_df_tg = pd.DataFrame(hours_tg, columns=[\"hour\"])\n",
    "hours_df_tg.value_counts().plot(kind=\"barh\", label=\"Telegram\", ax=axes[1])\n",
    "\n",
    "fig.legend()\n"
   ]
  },
  {
   "cell_type": "code",
   "execution_count": null,
   "id": "3701f6d8",
   "metadata": {},
   "outputs": [],
   "source": [
    "hours_df_all = pd.concat([hours_df_wa, hours_df_tg])\n",
    "hours_df_all.value_counts()[:10].plot(kind=\"barh\", title=\"Total Hours\", color=\"red\")"
   ]
  },
  {
   "cell_type": "code",
   "execution_count": null,
   "id": "8a192457",
   "metadata": {},
   "outputs": [],
   "source": [
    "happy_tc = HappyTextClassification(model_type=\"DISTILBERT\",  model_name=\"distilbert-base-uncased-finetuned-sst-2-english\")"
   ]
  },
  {
   "cell_type": "code",
   "execution_count": null,
   "id": "dab8b459",
   "metadata": {},
   "outputs": [],
   "source": [
    "sentiments_wa = []\n",
    "sentiments_tg = []\n",
    "for text in texts_wa:\n",
    "\n",
    "    result = happy_tc.classify_text(text)\n",
    "\n",
    "    sentiments_wa.append(result.label)\n",
    "\n",
    "for text in texts_tg:\n",
    "\n",
    "    result = happy_tc.classify_text(text)\n",
    "\n",
    "    sentiments_tg.append(result.label)\n"
   ]
  },
  {
   "cell_type": "code",
   "execution_count": null,
   "id": "abd74b1a",
   "metadata": {},
   "outputs": [],
   "source": [
    "fig, axes = plt.subplots(nrows=1, ncols=2)\n",
    "fig.tight_layout(pad=2.0)\n",
    "\n",
    "sentiments_df_wa = pd.DataFrame(sentiments_wa)\n",
    "sentiments_df_wa.value_counts().plot(kind=\"pie\", autopct='%.2f%%', label=\"WhatsApp\", ax=axes[0])\n",
    "\n",
    "sentiments_df_tg = pd.DataFrame(sentiments_tg)\n",
    "sentiments_df_tg.value_counts().plot(kind=\"pie\", autopct='%.2f%%', label=\"Telegram\", ax=axes[1])\n",
    "\n"
   ]
  },
  {
   "cell_type": "code",
   "execution_count": null,
   "id": "ca76bad2",
   "metadata": {},
   "outputs": [],
   "source": [
    "sentiments_df_all = pd.concat([sentiments_df_wa, sentiments_df_tg])\n",
    "sentiments_df_all.value_counts()[:10].plot(kind=\"pie\", title=\"Total Sentitment\", autopct='%.2f%%')"
   ]
  }
 ],
 "metadata": {
  "kernelspec": {
   "display_name": "Python 3 (ipykernel)",
   "language": "python",
   "name": "python3"
  },
  "language_info": {
   "codemirror_mode": {
    "name": "ipython",
    "version": 3
   },
   "file_extension": ".py",
   "mimetype": "text/x-python",
   "name": "python",
   "nbconvert_exporter": "python",
   "pygments_lexer": "ipython3",
   "version": "3.10.6"
  },
  "vscode": {
   "interpreter": {
    "hash": "916dbcbb3f70747c44a77c7bcd40155683ae19c65e1c03b4aa3499c5328201f1"
   }
  }
 },
 "nbformat": 4,
 "nbformat_minor": 5
}
